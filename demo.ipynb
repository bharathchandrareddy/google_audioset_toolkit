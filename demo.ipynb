{
  "cells": [
    {
      "cell_type": "markdown",
      "metadata": {
        "colab_type": "text",
        "id": "view-in-github"
      },
      "source": [
        "<a href=\"https://colab.research.google.com/github/aoifemcdonagh/audioset-processing/blob/master/demo.ipynb\" target=\"_parent\"><img src=\"https://colab.research.google.com/assets/colab-badge.svg\" alt=\"Open In Colab\"/></a>"
      ]
    },
    {
      "cell_type": "markdown",
      "metadata": {
        "id": "9o054Eu-5DDG"
      },
      "source": [
        "## Step 1: Setup\n",
        "1. clone repo"
      ]
    },
    {
      "cell_type": "code",
      "execution_count": null,
      "metadata": {
        "colab": {
          "base_uri": "https://localhost:8080/"
        },
        "id": "PWpHs9zU4nat",
        "outputId": "7f0204fb-e781-4113-ff87-b79a2ea1d734"
      },
      "outputs": [
        {
          "name": "stdout",
          "output_type": "stream",
          "text": [
            "Cloning into 'audioset-processing'...\n",
            "remote: Enumerating objects: 65, done.\u001b[K\n",
            "remote: Counting objects: 100% (65/65), done.\u001b[K\n",
            "remote: Compressing objects: 100% (47/47), done.\u001b[K\n",
            "remote: Total 222 (delta 34), reused 42 (delta 17), pack-reused 157\u001b[K\n",
            "Receiving objects: 100% (222/222), 12.85 MiB | 22.14 MiB/s, done.\n",
            "Resolving deltas: 100% (112/112), done.\n"
          ]
        }
      ],
      "source": [
        "!git clone https://github.com/aoifemcdonagh/audioset-processing.git"
      ]
    },
    {
      "cell_type": "code",
      "execution_count": null,
      "metadata": {
        "colab": {
          "base_uri": "https://localhost:8080/"
        },
        "id": "fAn41Omta3WI",
        "outputId": "3529a0e3-02c3-4ba7-c643-81a4237733fa"
      },
      "outputs": [
        {
          "name": "stdout",
          "output_type": "stream",
          "text": [
            "/content/audioset-processing\n"
          ]
        }
      ],
      "source": [
        "%cd audioset-processing/"
      ]
    },
    {
      "cell_type": "markdown",
      "metadata": {
        "id": "fwlcpD0o1-wK"
      },
      "source": [
        "## Step 2: Install requirements\n",
        "Note: ignore the prompt to restart runtime"
      ]
    },
    {
      "cell_type": "code",
      "execution_count": 1,
      "metadata": {
        "colab": {
          "base_uri": "https://localhost:8080/",
          "height": 510
        },
        "id": "POygatY7avX-",
        "outputId": "1b3d003a-7fbf-453d-c798-9da96e2b5a8f"
      },
      "outputs": [
        {
          "name": "stdout",
          "output_type": "stream",
          "text": [
            "Collecting altgraph==0.17 (from -r requirements.txt (line 1))\n",
            "  Downloading altgraph-0.17-py2.py3-none-any.whl.metadata (6.8 kB)\n",
            "Collecting future==0.18.2 (from -r requirements.txt (line 2))\n",
            "  Downloading future-0.18.2.tar.gz (829 kB)\n",
            "     ---------------------------------------- 0.0/829.2 kB ? eta -:--:--\n",
            "     ----- -------------------------------- 122.9/829.2 kB 3.5 MB/s eta 0:00:01\n",
            "     --------------------- ---------------- 471.0/829.2 kB 5.9 MB/s eta 0:00:01\n",
            "     -------------------------------------- 829.2/829.2 kB 6.6 MB/s eta 0:00:00\n",
            "  Preparing metadata (setup.py): started\n",
            "  Preparing metadata (setup.py): finished with status 'done'\n",
            "Collecting pefile==2019.4.18 (from -r requirements.txt (line 3))\n",
            "  Downloading pefile-2019.4.18.tar.gz (62 kB)\n",
            "     ---------------------------------------- 0.0/62.4 kB ? eta -:--:--\n",
            "     ---------------------------------------- 62.4/62.4 kB 3.3 MB/s eta 0:00:00\n",
            "  Preparing metadata (setup.py): started\n",
            "  Preparing metadata (setup.py): finished with status 'done'\n",
            "Collecting youtube-dl (from -r requirements.txt (line 4))\n",
            "  Downloading youtube_dl-2021.12.17-py2.py3-none-any.whl.metadata (1.5 kB)\n",
            "Downloading altgraph-0.17-py2.py3-none-any.whl (21 kB)\n",
            "Downloading youtube_dl-2021.12.17-py2.py3-none-any.whl (1.9 MB)\n",
            "   ---------------------------------------- 0.0/1.9 MB ? eta -:--:--\n",
            "   --------- ------------------------------ 0.5/1.9 MB 14.9 MB/s eta 0:00:01\n",
            "   -------------------- ------------------- 1.0/1.9 MB 12.5 MB/s eta 0:00:01\n",
            "   ------------------------------- -------- 1.5/1.9 MB 10.7 MB/s eta 0:00:01\n",
            "   ---------------------------------------  1.9/1.9 MB 11.0 MB/s eta 0:00:01\n",
            "   ---------------------------------------- 1.9/1.9 MB 10.1 MB/s eta 0:00:00\n",
            "Building wheels for collected packages: future, pefile\n",
            "  Building wheel for future (setup.py): started\n",
            "  Building wheel for future (setup.py): finished with status 'done'\n",
            "  Created wheel for future: filename=future-0.18.2-py3-none-any.whl size=491086 sha256=3b83907f671c2d396e6b9296979c5def0363d1b17eebbf65343c4cb7c84bd5c0\n",
            "  Stored in directory: c:\\users\\pc\\appdata\\local\\pip\\cache\\wheels\\22\\73\\06\\557dc4f4ef68179b9d763930d6eec26b88ed7c389b19588a1c\n",
            "  Building wheel for pefile (setup.py): started\n",
            "  Building wheel for pefile (setup.py): finished with status 'done'\n",
            "  Created wheel for pefile: filename=pefile-2019.4.18-py3-none-any.whl size=60827 sha256=c4d935b5413de8c3496f63ddc69a7295c2348f273ed67df39c1f7ee00423febe\n",
            "  Stored in directory: c:\\users\\pc\\appdata\\local\\pip\\cache\\wheels\\dd\\51\\40\\27ac04dffd6ea584fca95da73fff89de158206bab8397030e1\n",
            "Successfully built future pefile\n",
            "Installing collected packages: youtube-dl, altgraph, future, pefile\n",
            "Successfully installed altgraph-0.17 future-0.18.2 pefile-2019.4.18 youtube-dl-2021.12.17\n"
          ]
        }
      ],
      "source": [
        "!pip install -r requirements.txt"
      ]
    },
    {
      "cell_type": "markdown",
      "metadata": {
        "id": "8beQwdK72FXD"
      },
      "source": [
        "## Step 3: MORE COWBELL\n",
        "Download all instances of 'cowbell' class in AudioSet\n"
      ]
    },
    {
      "cell_type": "code",
      "execution_count": 5,
      "metadata": {
        "colab": {
          "base_uri": "https://localhost:8080/"
        },
        "id": "9hayH8Ksat7O",
        "outputId": "b4c29199-74d2-442b-f85d-415fa380a307"
      },
      "outputs": [
        {
          "name": "stderr",
          "output_type": "stream",
          "text": [
            "Python was not found; run without arguments to install from the Microsoft Store, or disable this shortcut from Settings > Manage App Execution Aliases.\n"
          ]
        }
      ],
      "source": [
        "!python3 process.py download -c \"cowbell\""
      ]
    }
  ],
  "metadata": {
    "colab": {
      "include_colab_link": true,
      "name": "demo.ipynb",
      "provenance": [],
      "toc_visible": true
    },
    "kernelspec": {
      "display_name": "toolkit",
      "language": "python",
      "name": "python3"
    },
    "language_info": {
      "codemirror_mode": {
        "name": "ipython",
        "version": 3
      },
      "file_extension": ".py",
      "mimetype": "text/x-python",
      "name": "python",
      "nbconvert_exporter": "python",
      "pygments_lexer": "ipython3",
      "version": "3.10.0"
    }
  },
  "nbformat": 4,
  "nbformat_minor": 0
}
